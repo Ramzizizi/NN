{
 "cells": [
  {
   "cell_type": "code",
   "execution_count": null,
   "id": "fd203c97-b2aa-485e-bc39-657f72efd518",
   "metadata": {},
   "outputs": [],
   "source": [
    "import numpy as np\n",
    "\n",
    "#определение необходимых функций для работы \n",
    "def sigmoid(x):\n",
    "    return 1 / (1 + np.exp(-x))\n",
    "\n",
    "def deriv_sigmoid(x):\n",
    "    fx = sigmoid(x)\n",
    "    return fx * (1 - fx)\n",
    "\n",
    "def predict(x,y):\n",
    "    sum_t1=W1[0]*x+W1[1]*y+b1\n",
    "    h=sigmoid(sum_t1)\n",
    "    sum_t2=h[0][0]*W2[0]+h[0][1]*W2[1]+b2\n",
    "    o1=sigmoid(sum_t2[0])\n",
    "    return o1\n",
    "\n",
    "\n",
    "#добавление правильно обученных весов\n",
    "W1=np.array([[ 0.08669151, 0.70972208],\n",
    "                [-0.15009617, 0.33882975]])\n",
    "b1=np.array([[-2.21261862, 0.0500741 ]])\n",
    "W2=np.array([[-0.67236509, -0.28416692],\n",
    "                [-0.18318363, -0.80438505]])\n",
    "b2=np.array([[0.24321996, 0.62306239]])\n",
    "\n",
    "\n",
    "#средние значения\n",
    "sred_r=169.3\n",
    "sred_v=62.8\n",
    "\n",
    "x=np.array([int(input(\"Введите рост:\"))])\n",
    "y=np.array([int(input(\"Введите вес:\"))])\n",
    "\n",
    "#усреднение данных\n",
    "x=x-sred_r\n",
    "y=y-sred_v\n",
    "\n",
    "rez=predict(x,y)\n",
    "if (rez[0]>rez[1]):\n",
    "    print(\"Это мужчина\")\n",
    "else:\n",
    "    print(\"Это девушка\")\n",
    "\n",
    "\n"
   ]
  }
 ],
 "metadata": {
  "kernelspec": {
   "display_name": "Python 3 (ipykernel)",
   "language": "python",
   "name": "python3"
  },
  "language_info": {
   "codemirror_mode": {
    "name": "ipython",
    "version": 3
   },
   "file_extension": ".py",
   "mimetype": "text/x-python",
   "name": "python",
   "nbconvert_exporter": "python",
   "pygments_lexer": "ipython3",
   "version": "3.8.5"
  }
 },
 "nbformat": 4,
 "nbformat_minor": 5
}
